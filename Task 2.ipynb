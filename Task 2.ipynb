{
 "cells": [
  {
   "cell_type": "code",
   "execution_count": 1,
   "metadata": {},
   "outputs": [
    {
     "name": "stdout",
     "output_type": "stream",
     "text": [
      "2\n",
      "3\n",
      "4\n",
      "5\n",
      "[[0, 0, 0], [0, 0, 1], [0, 0, 2], [0, 0, 3], [0, 0, 4], [0, 1, 0], [0, 1, 1], [0, 1, 2], [0, 1, 3], [0, 2, 0], [0, 2, 1], [0, 2, 2], [0, 2, 4], [0, 3, 0], [0, 3, 1], [0, 3, 3], [0, 3, 4], [1, 0, 0], [1, 0, 1], [1, 0, 2], [1, 0, 3], [1, 1, 0], [1, 1, 1], [1, 1, 2], [1, 1, 4], [1, 2, 0], [1, 2, 1], [1, 2, 3], [1, 2, 4], [1, 3, 0], [1, 3, 2], [1, 3, 3], [1, 3, 4], [2, 0, 0], [2, 0, 1], [2, 0, 2], [2, 0, 4], [2, 1, 0], [2, 1, 1], [2, 1, 3], [2, 1, 4], [2, 2, 0], [2, 2, 2], [2, 2, 3], [2, 2, 4], [2, 3, 1], [2, 3, 2], [2, 3, 3], [2, 3, 4]]\n"
     ]
    }
   ],
   "source": [
    "if __name__ == '__main__':\n",
    "    x = int(input())\n",
    "    y = int(input())\n",
    "    z = int(input())\n",
    "    n = int(input())\n",
    "li = []\n",
    "for i in range(x+1):\n",
    "    for j in range(y+1):\n",
    "        for k in range(z+1):\n",
    "            if(i+j+k!=n):\n",
    "                li.append([i,j,k])\n",
    "\n",
    "print(li) "
   ]
  },
  {
   "cell_type": "code",
   "execution_count": 2,
   "metadata": {},
   "outputs": [
    {
     "name": "stdout",
     "output_type": "stream",
     "text": [
      "5\n",
      "1 3 6 2 4\n",
      "4\n"
     ]
    }
   ],
   "source": [
    "if __name__ == '__main__':\n",
    "    n = int(input())\n",
    "    arr = map(int, input().split())\n",
    "s = set(arr)\n",
    "arr = list(s)\n",
    "arr = sorted(arr,reverse =True)\n",
    "print(arr[1])"
   ]
  },
  {
   "cell_type": "code",
   "execution_count": 3,
   "metadata": {},
   "outputs": [
    {
     "name": "stdout",
     "output_type": "stream",
     "text": [
      "3\n",
      "chi\n",
      "20.0\n",
      "alpha\n",
      "50.0\n",
      "beta\n",
      "50.0\n",
      "alpha\n",
      "beta\n"
     ]
    }
   ],
   "source": [
    "n = int(input())\n",
    "name = []\n",
    "score = []\n",
    "score1 = []\n",
    "for i in range(n):\n",
    "    nm = input()\n",
    "    name.append(nm)\n",
    "    ss = float(input())\n",
    "    score.append(ss)\n",
    "    score1.append(ss)\n",
    "score1 = list(sorted(set(score1)))\n",
    "e = score1[1]\n",
    "li = []\n",
    "for i in range(n):\n",
    "    if score[i]==e:\n",
    "        li.append(name[i])\n",
    "li = sorted(li)\n",
    "for i in li:\n",
    "    print(i)"
   ]
  },
  {
   "cell_type": "code",
   "execution_count": 4,
   "metadata": {},
   "outputs": [
    {
     "name": "stdout",
     "output_type": "stream",
     "text": [
      "2\n",
      "alpha 10 20 30\n",
      "beta 20 20 30\n",
      "beta\n",
      "23.33\n"
     ]
    }
   ],
   "source": [
    "if __name__ == '__main__':\n",
    "    n = int(input())\n",
    "    student_marks = {}\n",
    "    for _ in range(n):\n",
    "        name, *line = input().split()\n",
    "        scores = list(map(float, line))\n",
    "        student_marks[name] = scores\n",
    "    query_name = input()\n",
    "    s = sum(student_marks[query_name])/3\n",
    "    s = format(s,'.2f')\n",
    "    print(s)"
   ]
  },
  {
   "cell_type": "code",
   "execution_count": 5,
   "metadata": {},
   "outputs": [
    {
     "name": "stdout",
     "output_type": "stream",
     "text": [
      "3\n",
      "append 1\n",
      "append 2\n",
      "print\n",
      "[1, 2]\n"
     ]
    }
   ],
   "source": [
    "if __name__ == '__main__':\n",
    "    n = int(input())\n",
    "    li = []\n",
    "    for i in range(n):\n",
    "        s = input().split()\n",
    "        if s[0]=='insert':\n",
    "            li.insert(int(s[1]),int(s[2]))\n",
    "        elif s[0]=='append':\n",
    "            li.append(int(s[1]))\n",
    "        elif s[0]=='remove':\n",
    "            li.remove(int(s[1]))\n",
    "        elif s[0]=='pop':\n",
    "            li.pop()\n",
    "        elif s[0]=='sort':\n",
    "            li = sorted(li)\n",
    "        elif s[0]=='reverse':\n",
    "            li.reverse()\n",
    "        else:\n",
    "            print(li)"
   ]
  },
  {
   "cell_type": "code",
   "execution_count": 6,
   "metadata": {},
   "outputs": [
    {
     "name": "stdout",
     "output_type": "stream",
     "text": [
      "5\n",
      "1 2 3 4 5\n",
      "8315274433719620810\n"
     ]
    }
   ],
   "source": [
    "if __name__ == '__main__':\n",
    "    n = int(input())\n",
    "    integer_list = map(int, input().split())\n",
    "    integer_list = tuple(integer_list)\n",
    "    print(hash(integer_list))"
   ]
  },
  {
   "cell_type": "code",
   "execution_count": 7,
   "metadata": {},
   "outputs": [
    {
     "data": {
      "text/plain": [
       "'3.000'"
      ]
     },
     "execution_count": 7,
     "metadata": {},
     "output_type": "execute_result"
    }
   ],
   "source": [
    "def average(array):\n",
    "    # your code goes here\n",
    "    array = list(set(array))\n",
    "    return format(sum(array)/len(array),'.3f')\n",
    "average([1,2,3,4,5])"
   ]
  },
  {
   "cell_type": "code",
   "execution_count": 8,
   "metadata": {},
   "outputs": [
    {
     "name": "stdout",
     "output_type": "stream",
     "text": [
      "3 2\n",
      "1 5 3\n",
      "3 1\n",
      "5 7\n",
      "1\n"
     ]
    }
   ],
   "source": [
    "n,m = list(map(int,input().split()))\n",
    "li = list(map(int,input().split()))\n",
    "a = set(map(int,input().split()))\n",
    "b = set(map(int,input().split()))\n",
    "c = a|b\n",
    "li = [i for i in li if i in c]\n",
    "print(sum([(i in a) - (i in b) for i in li]))"
   ]
  },
  {
   "cell_type": "code",
   "execution_count": 9,
   "metadata": {},
   "outputs": [
    {
     "name": "stdout",
     "output_type": "stream",
     "text": [
      "4\n",
      "2 4 5 9\n",
      "4\n",
      "2 4 11 12\n",
      "5\n",
      "9\n",
      "11\n",
      "12\n"
     ]
    }
   ],
   "source": [
    "n = int(input())\n",
    "a = set(map(int,input().split()))\n",
    "m = int(input())\n",
    "b = set(map(int,input().split()))\n",
    "i = a.intersection(b)\n",
    "u = a.union(b)\n",
    "d = sorted(u.difference(i))\n",
    "for i in d:\n",
    "    print(i)"
   ]
  },
  {
   "cell_type": "code",
   "execution_count": 10,
   "metadata": {},
   "outputs": [
    {
     "name": "stdout",
     "output_type": "stream",
     "text": [
      "3\n",
      "India\n",
      "USA\n",
      "India\n",
      "2\n"
     ]
    }
   ],
   "source": [
    "n = int(input())\n",
    "s = set()\n",
    "for i in range(n):\n",
    "    ss=input()\n",
    "    s.add(ss)\n",
    "print(len(s))"
   ]
  },
  {
   "cell_type": "code",
   "execution_count": 11,
   "metadata": {},
   "outputs": [
    {
     "name": "stdout",
     "output_type": "stream",
     "text": [
      "9\n",
      "1 2 3 4 5 6 7 8 9\n",
      "2\n",
      "pop\n",
      "discard 2\n",
      "42\n"
     ]
    }
   ],
   "source": [
    "n = int(input())\n",
    "s = set(map(int, input().split()))\n",
    "l = int(input())\n",
    "for i in range(l):\n",
    "    ss = input().split()\n",
    "    if ss[0]=='pop' and len(s)!=0:\n",
    "        s.pop()\n",
    "    if ss[0]=='remove' and int(ss[1]) in s:\n",
    "        s.remove(int(ss[1]))\n",
    "    if ss[0]=='discard':\n",
    "        s.discard(int(ss[1]))\n",
    "print(sum(s))"
   ]
  },
  {
   "cell_type": "code",
   "execution_count": 12,
   "metadata": {},
   "outputs": [
    {
     "name": "stdout",
     "output_type": "stream",
     "text": [
      "9\n",
      "1 2 3 4 5 6 7 8 9\n",
      "9\n",
      "10 1 2 3 11 21 55 6 8\n",
      "13\n",
      "5\n",
      "4\n",
      "8\n"
     ]
    }
   ],
   "source": [
    "n = int(input())\n",
    "a = set(map(int,input().split()))\n",
    "m = int(input())\n",
    "b = set(map(int,input().split()))\n",
    "print(len(a.union(b)))\n",
    "print(len(a.intersection(b)))\n",
    "print(len(a.difference(b)))\n",
    "print(len(a.union(b).difference(a.intersection(b))))"
   ]
  },
  {
   "cell_type": "code",
   "execution_count": 13,
   "metadata": {},
   "outputs": [
    {
     "name": "stdout",
     "output_type": "stream",
     "text": [
      "5\n",
      "1 2 3 4 5\n",
      "2\n",
      "update 2\n",
      "4 7\n",
      "intersection_update 2\n",
      "2 9\n",
      "2\n"
     ]
    }
   ],
   "source": [
    "n = int(input())\n",
    "a = set(map(int,input().split()))\n",
    "m = int(input())\n",
    "for i in range(m):\n",
    "    s = input().split()\n",
    "    if s[0]=='update':\n",
    "        ss=set(map(int,input().split()))\n",
    "        a.update(ss)\n",
    "    if s[0]=='intersection_update':\n",
    "        ss = set(map(int,input().split()))\n",
    "        a.intersection_update(ss)\n",
    "    if s[0]=='difference_update':\n",
    "        ss=set(map(int,input().split()))\n",
    "        a.difference_update(ss)\n",
    "    if s[0]=='symmetric_difference_update':\n",
    "        ss=set(map(int,input().split()))\n",
    "        a.symmetric_difference_update(ss)\n",
    "print(sum(a))"
   ]
  },
  {
   "cell_type": "code",
   "execution_count": 14,
   "metadata": {},
   "outputs": [
    {
     "name": "stdout",
     "output_type": "stream",
     "text": [
      "5\n",
      "1 2 3 6 5 4 4 2 5 3 6 1 6 5 3 2 4 1 2 5 1 4 3 6 8 4 3 1 5 6 2\n",
      "8\n"
     ]
    }
   ],
   "source": [
    "k = int(input())\n",
    "li = list(map(int,input().split()))\n",
    "d = {}\n",
    "for i in li:\n",
    "    if i in d:\n",
    "        d[i]=d[i]+1\n",
    "    else:\n",
    "        d[i]=1\n",
    "for i,j in d.items():\n",
    "    if(j==1):\n",
    "        print(i)\n",
    "        break"
   ]
  },
  {
   "cell_type": "code",
   "execution_count": 15,
   "metadata": {},
   "outputs": [
    {
     "name": "stdout",
     "output_type": "stream",
     "text": [
      "1\n",
      "5\n",
      "1 2 3 5 6\n",
      "9\n",
      "9 8 7 1 2 3 6 5 4\n",
      "True\n"
     ]
    }
   ],
   "source": [
    "t = int(input())\n",
    "while(t>0):\n",
    "    n = int(input())\n",
    "    a = set(map(int,input().split()))\n",
    "    m = int(input())\n",
    "    b = set(map(int,input().split()))\n",
    "    flag=1\n",
    "    for i in a:\n",
    "        if i not in b:\n",
    "            print('False')\n",
    "            flag=0\n",
    "            break\n",
    "    if flag:\n",
    "        print('True')\n",
    "    t=t-1"
   ]
  },
  {
   "cell_type": "code",
   "execution_count": 16,
   "metadata": {},
   "outputs": [
    {
     "name": "stdout",
     "output_type": "stream",
     "text": [
      "1 2 3 4 5 6 7 8 9 10\n",
      "2\n",
      "1 2 3 4\n",
      "100 1 2\n",
      "False\n"
     ]
    }
   ],
   "source": [
    "a = set(map(int,input().split()))\n",
    "n = int(input())\n",
    "flag=1\n",
    "for i in range(n):\n",
    "    b = set(map(int,input().split()))\n",
    "    if b.issubset(a) and a.issuperset(b):\n",
    "        continue\n",
    "    else:\n",
    "        print('False')\n",
    "        flag=0\n",
    "        break\n",
    "if flag:\n",
    "    print('True')"
   ]
  },
  {
   "cell_type": "code",
   "execution_count": null,
   "metadata": {},
   "outputs": [],
   "source": []
  }
 ],
 "metadata": {
  "kernelspec": {
   "display_name": "Python 3",
   "language": "python",
   "name": "python3"
  },
  "language_info": {
   "codemirror_mode": {
    "name": "ipython",
    "version": 3
   },
   "file_extension": ".py",
   "mimetype": "text/x-python",
   "name": "python",
   "nbconvert_exporter": "python",
   "pygments_lexer": "ipython3",
   "version": "3.7.3"
  }
 },
 "nbformat": 4,
 "nbformat_minor": 2
}
